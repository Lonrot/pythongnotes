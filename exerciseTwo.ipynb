{
 "cells": [
  {
   "metadata": {},
   "cell_type": "markdown",
   "source": [
    "# Exercise (a bit more complex)\n",
    "\n",
    " 1. Ask the user to enter their name and store it in a variable called 'name'\n",
    " 2. Greet the user by their name. Example \"Hello Angel!\"\n",
    " 3. Ask the user to choose an activity from these options: \"book\", \"music\",\"game\" or any actually\n",
    " 4. Use if/elif/else statements to show another options for the user. For example for book: \"Add book, remove book, open book\"\n",
    " 5. Try running your program with all the different options!\n",
    "\n",
    " Your code below, good luck:"
   ],
   "id": "38fb83d0326f0e97"
  },
  {
   "cell_type": "code",
   "execution_count": null,
   "id": "initial_id",
   "metadata": {
    "collapsed": true
   },
   "outputs": [],
   "source": [
    "#Favorite Activity Selector 🌟\n",
    "\n"
   ]
  }
 ],
 "metadata": {
  "kernelspec": {
   "display_name": "Python 3",
   "language": "python",
   "name": "python3"
  },
  "language_info": {
   "codemirror_mode": {
    "name": "ipython",
    "version": 2
   },
   "file_extension": ".py",
   "mimetype": "text/x-python",
   "name": "python",
   "nbconvert_exporter": "python",
   "pygments_lexer": "ipython2",
   "version": "2.7.6"
  }
 },
 "nbformat": 4,
 "nbformat_minor": 5
}
