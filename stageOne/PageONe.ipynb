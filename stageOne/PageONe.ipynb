{
 "cells": [
  {
   "cell_type": "markdown",
   "id": "3afe89a242bdbb1c",
   "metadata": {},
   "source": [
    "# 1. Places to Write Python Code\n",
    "Where you write code or scripts are called IDE( Integrated Development\n",
    "Environment) It increases developer productivity by combining capabilities\n",
    "such as software editing, building, testing, and packaging in an easy-to-use\n",
    "application but coding can be done in NotePad ore even on word.\n",
    "\n",
    "Recommendations:\n",
    "1. VSCode IDE by Microsoft.\n",
    "2. Pycharm by IntelliJ\n",
    "3. Spider\n",
    "4. IDLE by Python Foundation (The OG)\n"
   ]
  },
  {
   "cell_type": "markdown",
   "id": "19a6d97cf033d94a",
   "metadata": {},
   "source": [
    "# Python Basics: Variables, Data Types, and Operators\n",
    "\n",
    "Welcome, Ivan! This notebook introduces the foundations of Python programming:\n",
    "- Saving values into variables\n",
    "- Types of variables (int, float, string, bool)\n",
    "- Basic operators (+, -, *, /, etc.)"
   ]
  },
  {
   "cell_type": "code",
   "execution_count": 2,
   "id": "514422c288f596be",
   "metadata": {
    "jupyter": {
     "is_executing": true
    }
   },
   "outputs": [
    {
     "name": "stdout",
     "output_type": "stream",
     "text": [
      "my_number is: 10\n",
      "my_name is: Ivan\n",
      "your Surname is: Hui\n",
      "Congratz, you are married your surname changed to: Schmalbach\n"
     ]
    }
   ],
   "source": [
    "# 1. Saving Values into Variables\n",
    "# A variable is a 'label' for a value.\n",
    "\n",
    "number = 10\n",
    "name = \"Ivan\"\n",
    "\n",
    "print(\"my_number is:\", number)\n",
    "print(\"my_name is:\", name)\n",
    "\n",
    "#Variables can change\n",
    "surname = \"Hui\"\n",
    "print(\"your Surname is: \" + surname)\n",
    "surname = \"Schmalbach\"\n",
    "print(\"Congratz, you are married your surname changed to: \" + surname)"
   ]
  },
  {
   "cell_type": "markdown",
   "id": "87bc33b3ba2544af",
   "metadata": {},
   "source": [
    "# Types of Variables"
   ]
  },
  {
   "cell_type": "code",
   "execution_count": 4,
   "id": "c86f046b69b19689",
   "metadata": {
    "jupyter": {
     "is_executing": true
    }
   },
   "outputs": [
    {
     "name": "stdout",
     "output_type": "stream",
     "text": [
      "London\n",
      "Type of age: <class 'int'>\n",
      "Type of height: <class 'float'>\n",
      "Type of city: <class 'str'>\n",
      "Type of student: <class 'bool'>\n"
     ]
    }
   ],
   "source": [
    "# Python has different data types for different kinds of values.\n",
    "\n",
    "# Integer (int) - whole numbers\n",
    "age = 21\n",
    "\n",
    "# Float - numbers with decimals\n",
    "height = 1.652522235422\n",
    "\n",
    "# String (str) - text\n",
    "city = \"London\"\n",
    "print(city)\n",
    "\n",
    "# Boolean (bool) - True or False\n",
    "isStudent = True\n",
    "\n",
    "print(\"Type of age:\", type(age))\n",
    "print(\"Type of height:\", type(height))\n",
    "print(\"Type of city:\", type(city))\n",
    "print(\"Type of student:\", type(isStudent))"
   ]
  },
  {
   "cell_type": "code",
   "execution_count": 5,
   "id": "1bc708553eece96a",
   "metadata": {},
   "outputs": [
    {
     "name": "stdout",
     "output_type": "stream",
     "text": [
      "a + b = 10\n",
      "a - b = 6\n",
      "a * b = 16\n",
      "a / b = 4.0\n",
      "a // b = 4\n",
      "a % b = 0\n",
      "a ** b = 64\n"
     ]
    }
   ],
   "source": [
    "#Operators\n",
    "\n",
    "# Arithmetic Operators\n",
    "a = 8\n",
    "b = 2\n",
    "\n",
    "print(\"a + b =\", a + b)     # Addition\n",
    "print(\"a - b =\", a - b)     # Subtraction\n",
    "print(\"a * b =\", a * b)     # Multiplication\n",
    "print(\"a / b =\", a / b)     # Division (result is a float)\n",
    "print(\"a // b =\", a // b)   # Floor division (no decimals)\n",
    "print(\"a % b =\", a % b)   # Modulus (remainder)\n",
    "print(\"a ** b =\", a ** b)   # Exponent (a to the power of b)"
   ]
  },
  {
   "cell_type": "markdown",
   "id": "67ed931b70802ed8",
   "metadata": {},
   "source": [
    "# Python Specific Syntax\n",
    "## 1. Indentation (spaces and tabs)\n",
    " Python uses indentation to indicate blocks of code.\n",
    " Standard practice is to use 4 spaces (tabs can cause issues if mixed)."
   ]
  },
  {
   "cell_type": "code",
   "execution_count": 6,
   "id": "d12e541f3b801999",
   "metadata": {},
   "outputs": [
    {
     "name": "stdout",
     "output_type": "stream",
     "text": [
      "Hello, World\n"
     ]
    }
   ],
   "source": [
    "def greet(name):\n",
    "    # The print statement is indented with 4 spaces.\n",
    "    print(\"Hello,\", name)\n",
    "\n",
    "greet(\"World\")"
   ]
  },
  {
   "cell_type": "code",
   "execution_count": 7,
   "id": "fcd0935094236923",
   "metadata": {},
   "outputs": [
    {
     "name": "stdout",
     "output_type": "stream",
     "text": [
      "Sum from function: 10\n"
     ]
    }
   ],
   "source": [
    "# All code inside this function must be indented the same amount\n",
    "def add_numbers(x, y):\n",
    "    sum_result = x + y\n",
    "    return sum_result\n",
    "print(\"Sum from function:\", add_numbers(4, 6 ))"
   ]
  },
  {
   "cell_type": "markdown",
   "id": "c933bb6a1828eb87",
   "metadata": {},
   "source": []
  },
  {
   "cell_type": "markdown",
   "id": "edbeb1c5334907c",
   "metadata": {},
   "source": [
    "# 2. Case Sensitivity\n",
    " Variable names are case-sensitive."
   ]
  },
  {
   "cell_type": "code",
   "execution_count": 8,
   "id": "cf82412e409dd3c",
   "metadata": {},
   "outputs": [
    {
     "name": "stdout",
     "output_type": "stream",
     "text": [
      "fruit: apple\n",
      "Fruit: banana\n",
      "\n"
     ]
    }
   ],
   "source": [
    "fruit = \"apple\"\n",
    "Fruit = \"banana\"\n",
    "print(\"fruit:\", fruit)\n",
    "print(\"Fruit:\", Fruit)\n",
    "\n",
    "print()"
   ]
  },
  {
   "cell_type": "markdown",
   "id": "606e566cef97bbcb",
   "metadata": {},
   "source": [
    "# 3. Statements and Line Breaks\n",
    "Normally one statement per line:"
   ]
  },
  {
   "cell_type": "code",
   "execution_count": 9,
   "id": "ce3eac89f2210b48",
   "metadata": {},
   "outputs": [
    {
     "name": "stdout",
     "output_type": "stream",
     "text": [
      "a = 5 b = 3 c = 7 d = 9\n",
      "long_sum: 24\n",
      "\n"
     ]
    }
   ],
   "source": [
    "a = 5\n",
    "b = 3\n",
    "\n",
    "# Multiple statements on one line (not recommended):\n",
    "c = 7; d = 9\n",
    "\n",
    "print(\"a =\", a, \"b =\", b, \"c =\", c, \"d =\", d)\n",
    "\n",
    "# Long statements can be split using \\\n",
    "long_sum = a + b + \\\n",
    "           c + d\n",
    "print(\"long_sum:\", long_sum)\n",
    "\n",
    "print()\n"
   ]
  },
  {
   "cell_type": "markdown",
   "id": "e3ae5c8f78539593",
   "metadata": {},
   "source": [
    "# 4. Comments\n",
    "Anything after # is a comment and ignored by Python"
   ]
  },
  {
   "cell_type": "code",
   "execution_count": 10,
   "id": "fa5227fb91b1c111",
   "metadata": {},
   "outputs": [
    {
     "name": "stdout",
     "output_type": "stream",
     "text": [
      "This is a print statement.\n",
      "\n"
     ]
    }
   ],
   "source": [
    "# This helps document your code!\n",
    "print(\"This is a print statement.\")  # This is a comment after code\n",
    "print()"
   ]
  },
  {
   "cell_type": "markdown",
   "id": "9945cee566280e88",
   "metadata": {},
   "source": [
    "# 5. Colons for Code Blocks\n",
    "Colons (:) are required after function, if, for, while, etc."
   ]
  },
  {
   "cell_type": "code",
   "execution_count": 11,
   "id": "b6d45d44a3996808",
   "metadata": {},
   "outputs": [
    {
     "name": "stdout",
     "output_type": "stream",
     "text": [
      "a is less than b\n"
     ]
    }
   ],
   "source": [
    "a = 5\n",
    "b = 6\n",
    "if a < b:\n",
    "    print(\"a is less than b\")\n",
    "else:\n",
    "    print(\"a is not less than b\")"
   ]
  },
  {
   "cell_type": "markdown",
   "id": "20b2dd25f228430e",
   "metadata": {},
   "source": [
    "# 7. Strings and Quotes\n",
    "You can use single (' ') or double (\" \") quotes for strings"
   ]
  },
  {
   "cell_type": "code",
   "execution_count": 12,
   "id": "4eb5a4ea3ea76327",
   "metadata": {},
   "outputs": [
    {
     "name": "stdout",
     "output_type": "stream",
     "text": [
      "Hello with double quotes\n",
      "Hello with single quotes\n"
     ]
    }
   ],
   "source": [
    "message1 = \"Hello with double quotes\"\n",
    "message2 = 'Hello with single quotes'\n",
    "print(message1)\n",
    "print(message2)"
   ]
  },
  {
   "cell_type": "markdown",
   "id": "6f05fcee47b5c770",
   "metadata": {},
   "source": [
    "# 8. Boolean Values"
   ]
  },
  {
   "cell_type": "code",
   "execution_count": 13,
   "id": "9beba7f8d89fe327",
   "metadata": {
    "ExecuteTime": {
     "end_time": "2025-07-31T15:33:44.433669Z",
     "start_time": "2025-07-31T15:33:44.423525Z"
    }
   },
   "outputs": [
    {
     "name": "stdout",
     "output_type": "stream",
     "text": [
      "Is Python fun? True\n"
     ]
    }
   ],
   "source": [
    "is_python_fun = True\n",
    "is_java_fun = False\n",
    "print(\"Is Python fun?\", is_python_fun)"
   ]
  },
  {
   "cell_type": "code",
   "execution_count": 14,
   "id": "b14211a34faefd9",
   "metadata": {},
   "outputs": [
    {
     "name": "stdout",
     "output_type": "stream",
     "text": [
      "False\n"
     ]
    }
   ],
   "source": [
    "def isbiggerthan5(string):\n",
    "    var = len(string)\n",
    "    var = var > 5\n",
    "    return var\n",
    "\n",
    "print(isbiggerthan5(\"Ivan\"))"
   ]
  },
  {
   "cell_type": "markdown",
   "id": "c8baa0a7d96c9111",
   "metadata": {},
   "source": [
    "---"
   ]
  }
 ],
 "metadata": {
  "kernelspec": {
   "display_name": "Python 3",
   "language": "python",
   "name": "python3"
  },
  "language_info": {
   "codemirror_mode": {
    "name": "ipython",
    "version": 3
   },
   "file_extension": ".py",
   "mimetype": "text/x-python",
   "name": "python",
   "nbconvert_exporter": "python",
   "pygments_lexer": "ipython3",
   "version": "3.13.5"
  }
 },
 "nbformat": 4,
 "nbformat_minor": 5
}
