{
 "cells": [
  {
   "cell_type": "markdown",
   "id": "38fb83d0326f0e97",
   "metadata": {},
   "source": [
    "# Exercise (a bit more complex)\n",
    "\n",
    " 1. Ask the user to enter their name and store it in a variable called 'name'\n",
    " 2. Greet the user by their name. Example \"Hello Angel!\"\n",
    " 3. Ask the user to choose an activity from these options: \"book\", \"music\",\"game\" or any actually\n",
    " 4. Use if/elif/else statements to show another options for the user. For example for book: \"Add book, remove book, open book\"\n",
    " 5. Try running your program with all the different options!\n",
    "\n",
    " Your code below, good luck:"
   ]
  },
  {
   "cell_type": "code",
   "execution_count": null,
   "id": "0e75da48",
   "metadata": {},
   "outputs": [],
   "source": [hello = 'hello'
name = input('What"s your name')
greeting = hello + " " + name
print(greeting)



user_choice = input('Do you choose, "book", "music", "game"?')
if user_choice == 'book':
    user_choice = input('Do you want to "add", or "remove"?')
    if user_choice == 'add':
         print(user_choice + ' ' + 'book')
    elif user_choice == 'remove':
         print(user_choice + ' ' + 'book')
    else:
         print('Choice unavailable')
if user_choice == 'music':
    user_choice = input('Do you want to "play", or "pause", or "stop"?')
    if user_choice == 'play':
        print(user_choice + ' ' + 'music')
    elif user_choice == 'pause':
        print(user_choice + ' ' + 'music')
    elif user_choice == 'stop':
        print(user_choice + ' ' + 'music')
    else:
        print('Choice unavailable')
if user_choice == 'game':
    user_choice = input('Do you want to "insert", or "eject"?')
    if user_choice == 'insert':
        print(user_choice + ' ' + 'game')
    elif user_choice == 'eject':
        print(user_choice + ' ' + 'music')
    else:
        print('Choice unavailable')
else:
    print('Choice Unavailable')]
  },
  {
   "cell_type": "code",
   "execution_count": null,
   "id": "initial_id",
   "metadata": {
    "collapsed": true
   },
   "outputs": [
    {
     "name": "stdout",
     "output_type": "stream",
     "text": [
      "remove book\n"
     ]
    }
   ],
   "source": [
    "#Favorite Activity Selector 🌟\n",
    "\n",
    "hello = 'hello'\n",
    "name = input('What\"s your name')\n",
    "greeting = hello + \" \" + name\n",
    "print(greeting)\n",
    "\n",
    "user_choice = input('Do you choose book, music, game')\n",
    "if user_choice == 'book':\n",
    "    # Do something with the input\n",
    "    input('Do you want to add, or remove?')\n",
    "    # checking user input against add\n",
    "if 'add':\n",
    "    print('add book')\n",
    "    # checking user input against remove\n",
    "elif 'remove':\n",
    "    print('remove book')\n",
    "\n",
    "#Add more options and check idententions \n",
    "\n",
    "    \n"
   ]
  }
 ],
 "metadata": {
  "kernelspec": {
   "display_name": "Python 3",
   "language": "python",
   "name": "python3"
  },
  "language_info": {
   "codemirror_mode": {
    "name": "ipython",
    "version": 3
   },
   "file_extension": ".py",
   "mimetype": "text/x-python",
   "name": "python",
   "nbconvert_exporter": "python",
   "pygments_lexer": "ipython3",
   "version": "3.13.5"
  }
 },
 "nbformat": 4,
 "nbformat_minor": 5
}
