{
 "cells": [
  {
   "cell_type": "markdown",
   "metadata": {},
   "source": [
    "# Python 3 Examples\n",
    "\n",
    "Summary of requested topics from Python fundamentals with simple\n",
    "explanations and examples:\n",
    "\n",
    "- Lists and indexing with `[]`\n",
    "- `append`, `remove`, and `del`\n",
    "- Combining `if` with `in` (membership tests)\n",
    "- `for ... in` loops to iterate over items\n",
    "- `print()` parameters: `sep` and `end`\n",
    "- The newline escape `\\n`\n",
    "- The `range(start, stop, step)` function\n",
    "- Putting it together: loops with lists and ranges\n",
    "\n",
    "Feel free to run and tweak each cell. Try the small exercises at the end of some sections!"
   ],
   "id": "be9858460ace2e4c"
  },
  {
   "cell_type": "markdown",
   "metadata": {},
   "source": [
    "## 1. Lists and Index Numbers\n",
    "\n",
    "- A list stores an ordered collection of items: `my_list = [10, 20, 30, 40, 50]`.\n",
    "- Indexing uses square brackets `[]`.\n",
    "- Indexes start at 0 in Python: `my_list[0]` is the first item, `my_list[3]` is the 4th item.\n",
    "- Negative indexes count from the end: `my_list[-1]` is the last item."
   ],
   "id": "81f3555f0d0a97ac"
  },
  {
   "cell_type": "code",
   "metadata": {},
   "source": [
    "# Example: index access\n",
    "numbers = [10, 20, 30, 40, 50]\n",
    "print(numbers[0])  # first item -> 10\n",
    "print(numbers[3])  # fourth item -> 40\n",
    "print(numbers[-1]) # last item -> 50"
   ],
   "id": "604bc687a4c33da8",
   "outputs": [],
   "execution_count": null
  },
  {
   "cell_type": "markdown",
   "metadata": {},
   "source": [
    "## 2. Adding and Removing Items: `append`, `remove`, and `del`\n",
    "- `append(x)` adds an item to the end of the list.\n",
    "- `remove(x)` removes the first matching value `x` from the list (error if `x` not found).\n",
    "- `del list[i]` removes the item at index `i` (by position)."
   ],
   "id": "11f4e84b0d5062ec"
  },
  {
   "cell_type": "code",
   "metadata": {},
   "source": [
    "# Example: append, remove, del\n",
    "fruits = [\"apple\", \"banana\", \"cherry\"]\n",
    "fruits.append(\"date\")\n",
    "print(fruits)  # ['apple', 'banana', 'cherry', 'date']\n",
    "\n",
    "fruits.remove(\"banana\")\n",
    "print( fruits)  # ['apple', 'cherry', 'date']\n",
    "\n",
    "del fruits[1]  # remove by index (removes 'cherry')\n",
    "print(fruits)  # ['apple', 'date']"
   ],
   "id": "5b344417ece9bf65",
   "outputs": [],
   "execution_count": null
  },
  {
   "cell_type": "markdown",
   "metadata": {},
   "source": [
    "## 3. `if` with `in` (Membership Test)\n",
    "- `x in some_list` checks if `x` appears in the list.\n",
    "- Often used with `if` to take action only if a value exists."
   ],
   "id": "841120c551f9875e"
  },
  {
   "cell_type": "code",
   "metadata": {},
   "source": [
    "# Example: if + in\n",
    "numberList = [1, 2, 3, 4, 5]\n",
    "\n",
    "if 1 in numberList:\n",
    "    print(\"1 is in the list -> True\")\n",
    "else:\n",
    "    print(\"1 is not in the list -> False\")"
   ],
   "id": "b9d4424d1d6ef2b8",
   "outputs": [],
   "execution_count": null
  },
  {
   "cell_type": "markdown",
   "metadata": {},
   "source": [
    "## 4. `for ... in` — Looping Over Items\n",
    "- `for item in collection:` processes each item one by one.\n",
    "- Commonly used to print items on separate lines or to apply logic to each item."
   ],
   "id": "62f64613af7a401f"
  },
  {
   "cell_type": "code",
   "metadata": {},
   "source": [
    "# Example: for ... in over a list\n",
    "colors = [\"red\", \"green\", \"blue\",\"yellow\"] #Size 4\n",
    "numberList = [1, 2, 3, 4, 5,6]\n",
    "\n",
    "for color in colors:\n",
    "    print(color)  # each on its own line"
   ],
   "id": "6a2f890a9e869163",
   "outputs": [],
   "execution_count": null
  },
  {
   "cell_type": "markdown",
   "metadata": {},
   "source": [
    "## 5. `print()` parameters: `sep` and `end`\n",
    "- `print(a, b, c, sep='...')` controls the separator between multiple values. Default `sep` is a single space `' '`. If you pass an empty string `''`, there will be no separator.\n",
    "- `print(x, end='...')` controls what is printed at the end. Default `end` is a newline `'\\n'`. If you set `end=' '`, the next print will continue on the same line separated by a space.\n",
    "\n",
    "Tip: `sep` is only used when you give `print()` multiple arguments. It's not something you \"add to an empty string\"—it's just a parameter of `print()`."
   ],
   "id": "310f935534813172"
  },
  {
   "cell_type": "code",
   "metadata": {},
   "source": [
    "# Example: sep\n",
    "print(\"A\", \"B\", \"C\")                # default sep=' ' -> A B C\n",
    "print(\"A\", \"B\", \"C\", sep=\"-\")       # custom sep -> A-B-C\n",
    "print(\"A\", \"B\", \"C\", sep=\"\")        # no separator -> ABC\n",
    "\n",
    "day=29\n",
    "month =8\n",
    "year =1990\n",
    "print(day,month,year, sep=\"/\")\n",
    "\n",
    "# Example: end\n",
    "print(\"Hello\", end=\" \")\n",
    "print(\"world!\")  # continues on the same line because previous end=\" \"\n",
    "\n",
    "# Another end example: printing numbers on the same line\n",
    "for n in [1, 2, 3]:\n",
    "    print(n, end=\", \")\n",
    "print(\"done\")\n",
    "# Docs: https://docs.python.org/3/library/functions.html#print"
   ],
   "id": "b8a1f5f2cece33be",
   "outputs": [],
   "execution_count": null
  },
  {
   "cell_type": "markdown",
   "metadata": {},
   "source": [
    "## 6. What does `\\n` mean?\n",
    "- `\\n` is a newline character (start a new line). It is used in strings.\n",
    "- `print()` automatically adds a newline at the end unless you change `end`.\n",
    "- You can also put `\\n` inside strings to create line breaks."
   ],
   "id": "ba091d4afa4c4545"
  },
  {
   "cell_type": "code",
   "metadata": {},
   "source": [
    "# Example: using \\n in strings\n",
    "message = \"Line 1\\nLine 2\\nLine 3\"\n",
    "print(message)\n",
    "\n",
    "# Equivalent with multiple prints (since print ends with \\n by default)\n",
    "print(\"Line 1\")\n",
    "print(\"Line 2\")\n",
    "print(\"Line 3\")"
   ],
   "id": "8a15797bd28c15cb",
   "outputs": [],
   "execution_count": null
  },
  {
   "cell_type": "markdown",
   "metadata": {},
   "source": [
    "## 7. The `range()` function — start, stop, step\n",
    "- `range(stop)` produces numbers from `0` up to (but not including) `stop`.\n",
    "- `range(start, stop)` goes from `start` up to (but not including) `stop`.\n",
    "- `range(start, stop, step)` goes from `start` to `stop` stepping by `step`.\n",
    "- Use it with `for ... in` to loop a certain number of times or generate sequences of numbers."
   ],
   "id": "ab56eeaddc249d4c"
  },
  {
   "cell_type": "code",
   "metadata": {},
   "source": [
    "\n",
    "print(list(range(6)))          # [0, 1, 2, 3, 4]\n",
    "print(list(range(2, 6)))       # [2, 3, 4, 5]\n",
    "print(list(range(0, 11,2)))  # [0, 2, 4, 6, 8]\n",
    "print(list(range(10, 0, -3)))  # [10, 7, 4, 1] (counting down by 3)"
   ],
   "id": "81f3e82fd31abb93",
   "outputs": [],
   "execution_count": null
  },
  {
   "cell_type": "markdown",
   "metadata": {},
   "source": [
    "## 8. `for` with `in` plus `range()`\n",
    "Combine `for ... in` with `range()` when you need a loop counter or a sequence of numbers."
   ],
   "id": "5b539f83888058db"
  },
  {
   "cell_type": "code",
   "metadata": {},
   "source": [
    "# Example: for + range\n",
    "for number in range(1, 6):  # 1 to 5\n",
    "    print(f\"number is {number}\")\n",
    "\n",
    "# Example: using index to access list items\n",
    "names = [\"Ana\", \"Ben\", \"Cia\"]\n",
    "for i in range(len(names)):\n",
    "    print(i, names[i])  # prints index and value"
   ],
   "id": "5f56ab42b7ce0a09",
   "outputs": [],
   "execution_count": null
  },
  {
   "cell_type": "markdown",
   "metadata": {},
   "source": [
    "## 9. Resume\n",
    "A small example that uses lists, membership tests, `append`, and loops with `range()` and `print()` settings."
   ],
   "id": "9762be1081ad9a0e"
  },
  {
   "cell_type": "code",
   "metadata": {},
   "source": [
    "# Mini exercise solution example\n",
    "basket = []\n",
    "items = [\"milk\", \"eggs\", \"bread\", \"eggs\"]\n",
    "\n",
    "# Add items, but avoid duplicates\n",
    "for item in items:\n",
    "    if item not in basket:\n",
    "        basket.append(item)\n",
    "\n",
    "print(\"Basket items:\", \", \".join(basket))  # join creates a string with commas between items\n",
    "\n",
    "# Remove an item if it's there\n",
    "if \"eggs\" in basket:\n",
    "    basket.remove(\"eggs\")\n",
    "\n",
    "print(\"After removing eggs:\", basket)\n",
    "\n",
    "# Print numbers on the same line using end\n",
    "print(\"Numbers:\", end=\" \")\n",
    "for n in range(1, 6):\n",
    "    print(n, end=\" \")\n",
    "print()  # finish the line"
   ],
   "id": "dd09810bb4e73d02",
   "outputs": [],
   "execution_count": null
  },
  {
   "cell_type": "markdown",
   "metadata": {},
   "source": [
    "## 10) Quick Practice\n",
    "- Change the list below and try different indexes (positive and negative) to predict the outputs.\n",
    "- Add a new fruit with `append`, then remove one with `remove`, then remove one by index with `del`.\n",
    "- Use `if ... in` to check if a fruit exists before removing it.\n",
    "- Use `for ... in` to print each fruit on its own line.\n",
    "- Use `print()` with `sep` to print values separated by a dash, and with `end` to continue printing on the same line.\n",
    "- Use `range(start, stop, step)` to print even numbers from 2 to 10."
   ],
   "id": "debe784142dacfe4"
  },
  {
   "cell_type": "code",
   "metadata": {},
   "source": [
    "# Your turn: try things out here\n",
    "fruits = [\"apple\", \"banana\", \"cherry\", \"date\"]\n",
    "\n",
    "# 1) Indexing experiments\n",
    "print(fruits[0])\n",
    "print(fruits[2])\n",
    "print(fruits[-1])\n",
    "\n",
    "# 2) Append, remove, del\n",
    "fruits.append(\"elderberry\")\n",
    "print(\"After append:\", fruits)\n",
    "if \"banana\" in fruits:\n",
    "    fruits.remove(\"banana\")\n",
    "print(\"After remove banana:\", fruits)\n",
    "del fruits[1]\n",
    "print(\"After del index 1:\", fruits)\n",
    "\n",
    "# 3) for ... in\n",
    "for fruit in fruits:\n",
    "    print(\"I like\", fruit)\n",
    "\n",
    "# 4) print with sep and end\n",
    "print(\"A\", \"B\", \"C\", sep=\"-\")\n",
    "print(\"First\", end=\", \")\n",
    "print(\"Second\", end=\", \")\n",
    "print(\"Third\")\n",
    "\n",
    "# 5) range examples\n",
    "for n in range(2, 11, 2):  # even numbers 2..10\n",
    "    print(n, end=\" \")\n",
    "print(\"\\nDone!\")"
   ],
   "id": "78f937730e7996d1",
   "outputs": [],
   "execution_count": null
  }
 ],
 "metadata": {
  "kernelspec": {
   "display_name": "Python 3",
   "language": "python",
   "name": "python3"
  },
  "language_info": {
   "name": "python",
   "version": ""
  }
 },
 "nbformat": 4,
 "nbformat_minor": 5
}
