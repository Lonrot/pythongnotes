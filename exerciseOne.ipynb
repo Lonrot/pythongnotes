{
 "cells": [
  {
   "metadata": {},
   "cell_type": "markdown",
   "source": [
    "# Exercise:\n",
    " 1. Create a variable called 'user_name' and assign your name as a string.\n",
    " 2. Create two variables, 'x' and 'y', and assign them integer values.\n",
    " 3. Create a third variable, 'sum_xy', that adds 'x' and 'y' together.\n",
    "4. Write a function called 'print_greeting' that prints \"Hello, <user_name>!\"\n",
    "5. Call the function to print the greeting.\n",
    "6. Print the values of x, y, and sum_xy, nicely formatted.\n",
    " 7. Try changing 'user_name' to 'User_Name' and see what happens.\n",
    "\n",
    "# Here yo go\n",
    "---"
   ],
   "id": "97defd425330ba70"
  },
  {
   "metadata": {},
   "cell_type": "code",
   "outputs": [],
   "execution_count": null,
   "source": [
    "# Exercise: Python Syntax Practice\n",
    "\n"
   ],
   "id": "6bd3abda26ebde2e"
  }
 ],
 "metadata": {
  "kernelspec": {
   "display_name": "Python 3",
   "language": "python",
   "name": "python3"
  },
  "language_info": {
   "codemirror_mode": {
    "name": "ipython",
    "version": 2
   },
   "file_extension": ".py",
   "mimetype": "text/x-python",
   "name": "python",
   "nbconvert_exporter": "python",
   "pygments_lexer": "ipython2",
   "version": "2.7.6"
  }
 },
 "nbformat": 4,
 "nbformat_minor": 5
}
